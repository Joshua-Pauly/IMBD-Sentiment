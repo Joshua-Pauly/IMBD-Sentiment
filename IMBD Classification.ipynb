{
 "cells": [
  {
   "cell_type": "markdown",
   "metadata": {},
   "source": [
    "## Using RNNs to classify sentiment on IMDB data\n",
    "\n",
    "In this assignment,you will train three types of RNNs:  \"vanilla\" RNN, LSTM and GRU to predict the sentiment on IMDB reviews.  \n",
    "\n",
    "Keras provides a convenient interface to load the data and immediately encode the words into integers (based on the most common words). \n",
    "This will save you a lot of the drudgery that is usually involved when working with raw text.\n",
    "\n",
    "The IMDB is  data consists of 25000 training sequences and 25000 test sequences. \n",
    "The outcome is binary (positive/negative) and both outcomes are equally represented in both the training and the test set.\n",
    "\n",
    "\n",
    "Walk through the followinng steps to prepare the data and the building of an RNN model. "
   ]
  },
  {
   "cell_type": "code",
   "execution_count": 1,
   "metadata": {},
   "outputs": [],
   "source": [
    "import tensorflow as tf\n",
    "from d2l import tensorflow as d2l\n",
    "from tensorflow import keras\n",
    "from tensorflow.keras import layers\n",
    "from tensorflow.keras.layers import Input, Lambda, Dense, Flatten,Dropout\n",
    "from tensorflow.keras.models import Model\n",
    "#from tensorflow.keras.applications.vgg19 import VGG19\n",
    "#from tensorflow.keras.applications.vgg19 import preprocess_input\n",
    "#from tensorflow.keras.preprocessing import image\n",
    "#from tensorflow.keras.preprocessing.image import ImageDataGenerator\n",
    "from tensorflow.keras.models import Sequential\n",
    "import numpy as np\n",
    "import pandas as pd\n",
    "import os\n",
    "import cv2\n",
    "import matplotlib.pyplot as plt\n",
    "import seaborn as sns\n",
    "from keras.datasets import imdb\n",
    "from keras.models import Sequential\n",
    "from keras.layers import Embedding\n",
    "from keras.layers import SimpleRNN,Dense, Activation, LSTM, Flatten, Dropout\n",
    "from tensorflow.keras import initializers\n",
    "from keras.optimizers import RMSprop\n"
   ]
  },
  {
   "cell_type": "markdown",
   "metadata": {},
   "source": [
    "1- Use the `imdb.load_data()` to load in the data \n",
    "\n",
    "2- Specify the maximum length of a sequence to 30 words and the pick the 2000 most common words. "
   ]
  },
  {
   "cell_type": "code",
   "execution_count": 2,
   "metadata": {},
   "outputs": [],
   "source": [
    "(X_train,Y_train),(X_test,Y_test) = imdb.load_data(path='imdb.npz',\n",
    "    num_words=2000,\n",
    "    skip_top=0,\n",
    "    maxlen=None,\n",
    "    seed=113,\n",
    "    start_char=1,\n",
    "    oov_char=2,\n",
    "    index_from=3)"
   ]
  },
  {
   "cell_type": "markdown",
   "metadata": {},
   "source": [
    "3- Check that the number of sequences in train and test datasets are equal (default split):\n",
    "    \n",
    "Expected output:\n",
    "- `x_train = 25000 train sequences`\n",
    "\n",
    "- `x_test = 25000 test sequences`"
   ]
  },
  {
   "cell_type": "code",
   "execution_count": 3,
   "metadata": {},
   "outputs": [
    {
     "name": "stdout",
     "output_type": "stream",
     "text": [
      "X train shape:  (25000,)\n",
      "X test shape:  (25000,)\n"
     ]
    }
   ],
   "source": [
    "print(\"X train shape: \",X_train.shape)\n",
    "print(\"X test shape: \",X_test.shape)"
   ]
  },
  {
   "cell_type": "markdown",
   "metadata": {},
   "source": [
    "4- Pad (or truncate) the sequences so that they are of the maximum length"
   ]
  },
  {
   "cell_type": "code",
   "execution_count": 4,
   "metadata": {},
   "outputs": [
    {
     "data": {
      "text/plain": [
       "2002"
      ]
     },
     "execution_count": 4,
     "metadata": {},
     "output_type": "execute_result"
    }
   ],
   "source": [
    "src_vocab_train = d2l.Vocab(X_train, min_freq=1,\n",
    "                      reserved_tokens=['<pad>', '<bos>', '<eos>'])\n",
    "src_vocab_test = d2l.Vocab(X_test, min_freq=1,\n",
    "                      reserved_tokens=['<pad>', '<bos>', '<eos>'])\n",
    "\n",
    "len(src_vocab_train)"
   ]
  },
  {
   "cell_type": "code",
   "execution_count": 5,
   "metadata": {},
   "outputs": [
    {
     "name": "stdout",
     "output_type": "stream",
     "text": [
      "[1, 14, 22, 16, 43, 530, 973, 1622, 1385, 65, 458, 2, 66, 2, 4, 173, 36, 256, 5, 25, 100, 43, 838, 112, 50, 670, 2, 9, 35, 480, 284, 5, 150, 4, 172, 112, 167, 2, 336, 385, 39, 4, 172, 2, 1111, 17, 546, 38, 13, 447, 4, 192, 50, 16, 6, 147, 2, 19, 14, 22, 4, 1920, 2, 469, 4, 22, 71, 87, 12, 16, 43, 530, 38, 76, 15, 13, 1247, 4, 22, 17, 515, 17, 12, 16, 626, 18, 2, 5, 62, 386, 12, 8, 316, 8, 106, 5, 4, 2, 2, 16, 480, 66, 2, 33, 4, 130, 12, 16, 38, 619, 5, 25, 124, 51, 36, 135, 48, 25, 1415, 33, 6, 22, 12, 215, 28, 77, 52, 5, 14, 407, 16, 82, 2, 8, 4, 107, 117, 2, 15, 256, 4, 2, 7, 2, 5, 723, 36, 71, 43, 530, 476, 26, 400, 317, 46, 7, 4, 2, 1029, 13, 104, 88, 4, 381, 15, 297, 98, 32, 2, 56, 26, 141, 6, 194, 2, 18, 4, 226, 22, 21, 134, 476, 26, 480, 5, 144, 30, 2, 18, 51, 36, 28, 224, 92, 25, 104, 4, 226, 65, 16, 38, 1334, 88, 12, 16, 283, 5, 16, 2, 113, 103, 32, 15, 16, 2, 19, 178, 32]\n",
      "[33, 15, 23, 17, 45, 531, 973, 1623, 1386, 67, 460, 4, 68, 4, 5, 175, 38, 258, 6, 26, 102, 45, 840, 114, 52, 672, 4, 10, 37, 482]\n"
     ]
    }
   ],
   "source": [
    "def truncate_pad(line, num_steps, padding_token):\n",
    "    \"\"\"Truncate or pad sequences.\"\"\"\n",
    "    if len(line) > num_steps:\n",
    "        return line[:num_steps]  # Truncate\n",
    "    return line + [padding_token] * (num_steps - len(line)) # Pad\n",
    "\n",
    "X_train_pad_test = truncate_pad(src_vocab_train[X_train[0]], 30, src_vocab_train['<pad>'] )\n",
    "print(X_train[0])\n",
    "print(X_train_pad_test)"
   ]
  },
  {
   "cell_type": "code",
   "execution_count": 6,
   "metadata": {},
   "outputs": [],
   "source": [
    "def build_array_nmt(lines, vocab, num_steps):\n",
    "    \"\"\"Transform text sequences of machine translation into minibatches.\"\"\"\n",
    "    lines = [vocab[l] for l in lines]\n",
    "    lines = [l + [vocab['<eos>']] for l in lines]\n",
    "    array = tf.constant([\n",
    "        truncate_pad(l, num_steps, vocab['<pad>']) for l in lines])\n",
    "    valid_len = tf.reduce_sum(tf.cast(array != vocab['<pad>'], tf.int32), 1)\n",
    "    return array, valid_len\n"
   ]
  },
  {
   "cell_type": "code",
   "execution_count": 7,
   "metadata": {},
   "outputs": [],
   "source": [
    "X_train_30, val_len = build_array_nmt(X_train, src_vocab_train, 30)\n",
    "X_test_30, val_len = build_array_nmt(X_test, src_vocab_test, 30)"
   ]
  },
  {
   "cell_type": "markdown",
   "metadata": {},
   "source": [
    "5- After padding or truncating, check the dimensionality of x_train and x_test.\n",
    "\n",
    "Expected output:\n",
    "- `x_train shape: (25000, 30)`\n",
    "- `x_test shape: (25000, 30)`"
   ]
  },
  {
   "cell_type": "code",
   "execution_count": 8,
   "metadata": {},
   "outputs": [
    {
     "name": "stdout",
     "output_type": "stream",
     "text": [
      "X train shape:  (25000, 30)\n",
      "X test shape:  (25000, 30)\n"
     ]
    }
   ],
   "source": [
    "print(\"X train shape: \",X_train_30.shape)\n",
    "print(\"X test shape: \",X_test_30.shape)"
   ]
  },
  {
   "cell_type": "markdown",
   "metadata": {},
   "source": [
    "## Keras layers for (Vanilla) RNNs\n",
    "\n",
    "In this step, you will not use pre-trained word vectors, Instead you will learn an embedding as part of the  the Vanilla) RNNs network  Neural Network. \n",
    "\n",
    "In the Keras API documentation, the Embedding Layer and the SimpleRNN Layer have the following syntax:\n",
    "\n",
    "### Embedding Layer\n",
    "`keras.layers.embeddings.Embedding(input_dim, output_dim, embeddings_initializer='uniform', embeddings_regularizer=None, activity_regularizer=None, embeddings_constraint=None, mask_zero=False, input_length=None)`\n",
    "\n",
    "- This layer maps each integer into a distinct (dense) word vector of length `output_dim`.\n",
    "- Can think of this as learning a word vector embedding \"on the fly\" rather than using an existing mapping (like GloVe)\n",
    "- The `input_dim` should be the size of the vocabulary.\n",
    "- The `input_length` specifies the length of the sequences that the network expects.\n",
    "\n",
    "### SimpleRNN Layer\n",
    "`keras.layers.recurrent.SimpleRNN(units, activation='tanh', use_bias=True, kernel_initializer='glorot_uniform', recurrent_initializer='orthogonal', bias_initializer='zeros', kernel_regularizer=None, recurrent_regularizer=None, bias_regularizer=None, activity_regularizer=None, kernel_constraint=None, recurrent_constraint=None, bias_constraint=None, dropout=0.0, recurrent_dropout=0.0)`\n",
    "\n",
    "- This is the basic RNN, where the output is also fed back as the \"hidden state\" to the next iteration.\n",
    "- The parameter `units` gives the dimensionality of the output (and therefore the hidden state).  Note that typically there will be another layer after the RNN mapping the (RNN) output to the network output.  So we should think of this value as the desired dimensionality of the hidden state and not necessarily the desired output of the network.\n",
    "- Recall that there are two sets of weights, one for the \"recurrent\" phase and the other for the \"kernel\" phase.  These can be configured separately in terms of their initialization, regularization, etc.\n",
    "\n",
    "\n",
    "\n",
    "\n"
   ]
  },
  {
   "cell_type": "markdown",
   "metadata": {},
   "source": [
    "6- Build the RNN with three layers: \n",
    "- The SimpleRNN layer with 5 neurons and initialize its kernel with stddev=0.001\n",
    "\n",
    "- The Embedding layer and initialize it by setting the word embedding dimension to 50. This means that this layer takes each integer in the sequence and embeds it in a 50-dimensional vector.\n",
    "\n",
    "-  The output layer has the sigmoid activation function."
   ]
  },
  {
   "cell_type": "code",
   "execution_count": 9,
   "metadata": {},
   "outputs": [
    {
     "name": "stdout",
     "output_type": "stream",
     "text": [
      "30\n"
     ]
    }
   ],
   "source": [
    "print(len(X_train_30[0]))"
   ]
  },
  {
   "cell_type": "code",
   "execution_count": 10,
   "metadata": {},
   "outputs": [
    {
     "name": "stdout",
     "output_type": "stream",
     "text": [
      "Model: \"sequential\"\n",
      "_________________________________________________________________\n",
      " Layer (type)                Output Shape              Param #   \n",
      "=================================================================\n",
      " embedding (Embedding)       (None, 30, 50)            100100    \n",
      "                                                                 \n",
      " simple_rnn (SimpleRNN)      (None, 5)                 280       \n",
      "                                                                 \n",
      " dense (Dense)               (None, 1)                 6         \n",
      "                                                                 \n",
      " activation (Activation)     (None, 1)                 0         \n",
      "                                                                 \n",
      "=================================================================\n",
      "Total params: 100,386\n",
      "Trainable params: 100,386\n",
      "Non-trainable params: 0\n",
      "_________________________________________________________________\n",
      "None\n"
     ]
    }
   ],
   "source": [
    "rnn = Sequential()\n",
    "rnn.add(Embedding(2002, 50, input_length = 30))\n",
    "rnn.add(SimpleRNN(5, input_shape = (2002, 30), return_sequences = False, activation = \"relu\"))\n",
    "rnn.add(Dense(1))\n",
    "rnn.add(Activation(\"sigmoid\"))\n",
    "\n",
    "print(rnn.summary())\n"
   ]
  },
  {
   "cell_type": "markdown",
   "metadata": {},
   "source": [
    "7- How many parameters have the embedding layer?"
   ]
  },
  {
   "cell_type": "code",
   "execution_count": 11,
   "metadata": {},
   "outputs": [],
   "source": [
    "#The embedding layer has 100100 parameters,in length vocab training we can see there was 2002 words\n",
    "#the expected number was 2000 however with the 2 extra words the parameters goes from 2000 x 50 to 2002 x 50."
   ]
  },
  {
   "cell_type": "markdown",
   "metadata": {},
   "source": [
    "8- Train the network with the RMSprop with learning rate of .0001 and epochs=10."
   ]
  },
  {
   "cell_type": "code",
   "execution_count": 12,
   "metadata": {},
   "outputs": [],
   "source": [
    "opt = tf.keras.optimizers.RMSprop(learning_rate=0.0001)\n",
    "rnn.compile(loss = \"binary_crossentropy\", optimizer = opt, metrics = [\"accuracy\"])"
   ]
  },
  {
   "cell_type": "code",
   "execution_count": 13,
   "metadata": {},
   "outputs": [
    {
     "name": "stdout",
     "output_type": "stream",
     "text": [
      "Epoch 1/10\n",
      "1250/1250 [==============================] - 4s 2ms/step - loss: 0.6862 - accuracy: 0.5434 - val_loss: 0.6764 - val_accuracy: 0.5582\n",
      "Epoch 2/10\n",
      "1250/1250 [==============================] - 3s 2ms/step - loss: 0.6517 - accuracy: 0.6371 - val_loss: 0.6361 - val_accuracy: 0.6548\n",
      "Epoch 3/10\n",
      "1250/1250 [==============================] - 3s 2ms/step - loss: 0.6124 - accuracy: 0.6968 - val_loss: 0.6167 - val_accuracy: 0.6862\n",
      "Epoch 4/10\n",
      "1250/1250 [==============================] - 3s 2ms/step - loss: 0.5906 - accuracy: 0.7157 - val_loss: 0.6065 - val_accuracy: 0.6884\n",
      "Epoch 5/10\n",
      "1250/1250 [==============================] - 3s 2ms/step - loss: 0.5750 - accuracy: 0.7250 - val_loss: 0.5999 - val_accuracy: 0.6906\n",
      "Epoch 6/10\n",
      "1250/1250 [==============================] - 3s 2ms/step - loss: 0.5627 - accuracy: 0.7307 - val_loss: 0.5984 - val_accuracy: 0.6880\n",
      "Epoch 7/10\n",
      "1250/1250 [==============================] - 3s 2ms/step - loss: 0.5516 - accuracy: 0.7362 - val_loss: 0.5913 - val_accuracy: 0.6914\n",
      "Epoch 8/10\n",
      "1250/1250 [==============================] - 3s 2ms/step - loss: 0.5424 - accuracy: 0.7427 - val_loss: 0.5885 - val_accuracy: 0.6914\n",
      "Epoch 9/10\n",
      "1250/1250 [==============================] - 3s 2ms/step - loss: 0.5346 - accuracy: 0.7471 - val_loss: 0.5849 - val_accuracy: 0.6910\n",
      "Epoch 10/10\n",
      "1250/1250 [==============================] - 3s 2ms/step - loss: 0.5279 - accuracy: 0.7509 - val_loss: 0.5838 - val_accuracy: 0.6952\n"
     ]
    }
   ],
   "source": [
    "history = rnn.fit(X_train_30, Y_train, batch_size=16, epochs=10, validation_split=0.2)"
   ]
  },
  {
   "cell_type": "markdown",
   "metadata": {},
   "source": [
    "9- PLot the loss and accuracy metrics during the training and interpret the result."
   ]
  },
  {
   "cell_type": "code",
   "execution_count": 14,
   "metadata": {},
   "outputs": [
    {
     "data": {
      "image/png": "[encoded data removed]",
      "text/plain": [
       "<Figure size 1152x432 with 2 Axes>"
      ]
     },
     "metadata": {
      "needs_background": "light"
     },
     "output_type": "display_data"
    }
   ],
   "source": [
    "def plot_history(history,title=''):  \n",
    "    if title!='':\n",
    "        title+=' '\n",
    "    #Ploting the Loss and Accuracy Curves\n",
    "    fig, ax = plt.subplots(nrows = 1, ncols = 2, figsize = (16,6))\n",
    "    #Loss\n",
    "    sns.lineplot(data = history.history['loss'], label = 'Training Loss', ax = ax[0])\n",
    "    sns.lineplot(data = history.history['val_loss'], label = 'Validation Loss', ax = ax[0])\n",
    "    ax[0].legend(loc = 'upper right')\n",
    "    ax[0].set_title(title+'Loss')\n",
    "    #Accuracy\n",
    "    sns.lineplot(data = history.history['accuracy'], label = 'Training Accuracy', ax = ax[1])\n",
    "    sns.lineplot(data = history.history['val_accuracy'], label = 'Validation Accuracy', ax = ax[1])\n",
    "    ax[1].legend(loc = 'lower right')\n",
    "    ax[1].set_title(title+'Accuracy')\n",
    "    \n",
    "plot_history(history,'Vanilla RNN')"
   ]
  },
  {
   "cell_type": "markdown",
   "metadata": {},
   "source": [
    "10- Check the accuracy and the loss of your models on the test dataset."
   ]
  },
  {
   "cell_type": "code",
   "execution_count": 15,
   "metadata": {},
   "outputs": [
    {
     "name": "stdout",
     "output_type": "stream",
     "text": [
      "782/782 [==============================] - 1s 1ms/step - loss: 0.7963 - accuracy: 0.5060\n"
     ]
    }
   ],
   "source": [
    "test = rnn.evaluate(X_test_30,Y_test)\n"
   ]
  },
  {
   "cell_type": "markdown",
   "metadata": {},
   "source": [
    "## Tuning The Vanilla RNN Network\n"
   ]
  },
  {
   "cell_type": "markdown",
   "metadata": {},
   "source": [
    "11- Prepare the data to use sequences of length 80 rather than length 30 and retrain your model.  Did it improve the performance?\n",
    "\n",
    "12- Try different values of the  maximum length of a sequence (\"max_features\").  Can you improve the performance?\n",
    "\n",
    "13- Try smaller and larger sizes of the RNN hidden dimension.  How does it affect the model performance?  How does it affect the run time?"
   ]
  },
  {
   "cell_type": "code",
   "execution_count": 16,
   "metadata": {},
   "outputs": [
    {
     "name": "stdout",
     "output_type": "stream",
     "text": [
      "X train shape:  (25000, 80)\n",
      "X test shape:  (25000, 80)\n"
     ]
    }
   ],
   "source": [
    "#11) 80 words \n",
    "X_train_80, val_len = build_array_nmt(X_train, src_vocab_train, 80)\n",
    "X_test_80, val_len = build_array_nmt(X_test, src_vocab_test, 80)\n",
    "print(\"X train shape: \",X_train_80.shape)\n",
    "print(\"X test shape: \",X_test_80.shape)\n"
   ]
  },
  {
   "cell_type": "code",
   "execution_count": 17,
   "metadata": {},
   "outputs": [],
   "source": [
    "rnn = Sequential()\n",
    "rnn.add(Embedding(2002, 50, input_length = 80))\n",
    "rnn.add(SimpleRNN(5, input_shape = (2002, 80), return_sequences = False, activation = \"relu\"))\n",
    "rnn.add(Dense(1))\n",
    "rnn.add(Activation(\"sigmoid\"))\n",
    "opt = tf.keras.optimizers.RMSprop(learning_rate=0.0001)\n",
    "rnn.compile(loss = \"binary_crossentropy\", optimizer = opt, metrics = [\"accuracy\"])"
   ]
  },
  {
   "cell_type": "code",
   "execution_count": 18,
   "metadata": {},
   "outputs": [
    {
     "name": "stdout",
     "output_type": "stream",
     "text": [
      "Epoch 1/10\n",
      "1250/1250 [==============================] - 8s 6ms/step - loss: 0.6420 - accuracy: 0.6048 - val_loss: 0.5938 - val_accuracy: 0.7126\n",
      "Epoch 2/10\n",
      "1250/1250 [==============================] - 7s 6ms/step - loss: 0.5715 - accuracy: 0.7367 - val_loss: 0.5614 - val_accuracy: 0.7432\n",
      "Epoch 3/10\n",
      "1250/1250 [==============================] - 7s 6ms/step - loss: 0.5413 - accuracy: 0.7724 - val_loss: 0.5449 - val_accuracy: 0.7590\n",
      "Epoch 4/10\n",
      "1250/1250 [==============================] - 7s 6ms/step - loss: 0.5196 - accuracy: 0.7881 - val_loss: 0.5349 - val_accuracy: 0.7638\n",
      "Epoch 5/10\n",
      "1250/1250 [==============================] - 7s 6ms/step - loss: 0.5018 - accuracy: 0.7969 - val_loss: 0.5204 - val_accuracy: 0.7748\n",
      "Epoch 6/10\n",
      "1250/1250 [==============================] - 7s 6ms/step - loss: 0.4863 - accuracy: 0.8031 - val_loss: 0.5105 - val_accuracy: 0.7786\n",
      "Epoch 7/10\n",
      "1250/1250 [==============================] - 7s 6ms/step - loss: 0.4726 - accuracy: 0.8081 - val_loss: 0.5026 - val_accuracy: 0.7796\n",
      "Epoch 8/10\n",
      "1250/1250 [==============================] - 7s 6ms/step - loss: 0.4604 - accuracy: 0.8142 - val_loss: 0.4965 - val_accuracy: 0.7798\n",
      "Epoch 9/10\n",
      "1250/1250 [==============================] - 7s 6ms/step - loss: 0.4503 - accuracy: 0.8155 - val_loss: 0.4932 - val_accuracy: 0.7766\n",
      "Epoch 10/10\n",
      "1250/1250 [==============================] - 7s 6ms/step - loss: 0.4411 - accuracy: 0.8188 - val_loss: 0.4889 - val_accuracy: 0.7788\n",
      "782/782 [==============================] - 2s 2ms/step - loss: 0.8365 - accuracy: 0.5103\n",
      "[0.8365142345428467, 0.5103200078010559]\n"
     ]
    }
   ],
   "source": [
    "history = rnn.fit(X_train_80, Y_train, batch_size=16, epochs=10, validation_split=0.2)\n",
    "test = rnn.evaluate(X_test_80,Y_test)\n",
    "print(test)"
   ]
  },
  {
   "cell_type": "code",
   "execution_count": 19,
   "metadata": {},
   "outputs": [],
   "source": [
    "#yes it slightly imporoved performance"
   ]
  },
  {
   "cell_type": "code",
   "execution_count": 20,
   "metadata": {},
   "outputs": [
    {
     "name": "stdout",
     "output_type": "stream",
     "text": [
      "X train shape:  (25000, 10)\n",
      "X test shape:  (25000, 10)\n"
     ]
    }
   ],
   "source": [
    "#12) 10 words\n",
    "X_train_10, val_len = build_array_nmt(X_train, src_vocab_train, 10)\n",
    "X_test_10, val_len = build_array_nmt(X_test, src_vocab_test, 10)\n",
    "print(\"X train shape: \",X_train_10.shape)\n",
    "print(\"X test shape: \",X_test_10.shape)"
   ]
  },
  {
   "cell_type": "code",
   "execution_count": 21,
   "metadata": {},
   "outputs": [],
   "source": [
    "rnn = Sequential()\n",
    "rnn.add(Embedding(2002, 50, input_length = 10))\n",
    "rnn.add(SimpleRNN(5, input_shape = (2002, 10), return_sequences = False, activation = \"relu\"))\n",
    "rnn.add(Dense(1))\n",
    "rnn.add(Activation(\"sigmoid\"))\n",
    "opt = tf.keras.optimizers.RMSprop(learning_rate=0.0001)\n",
    "rnn.compile(loss = \"binary_crossentropy\", optimizer = opt, metrics = [\"accuracy\"])"
   ]
  },
  {
   "cell_type": "code",
   "execution_count": 22,
   "metadata": {},
   "outputs": [
    {
     "name": "stdout",
     "output_type": "stream",
     "text": [
      "Epoch 1/10\n",
      "1563/1563 [==============================] - 4s 2ms/step - loss: 0.6862 - accuracy: 0.5229 - val_loss: 0.6937 - val_accuracy: 0.5170\n",
      "Epoch 2/10\n",
      "1563/1563 [==============================] - 3s 2ms/step - loss: 0.6605 - accuracy: 0.5984 - val_loss: 0.7073 - val_accuracy: 0.5202\n",
      "Epoch 3/10\n",
      "1563/1563 [==============================] - 3s 2ms/step - loss: 0.6404 - accuracy: 0.6470 - val_loss: 0.7219 - val_accuracy: 0.5215\n",
      "Epoch 4/10\n",
      "1563/1563 [==============================] - 3s 2ms/step - loss: 0.6281 - accuracy: 0.6637 - val_loss: 0.7319 - val_accuracy: 0.5115\n",
      "Epoch 5/10\n",
      "1563/1563 [==============================] - 3s 2ms/step - loss: 0.6184 - accuracy: 0.6762 - val_loss: 0.7364 - val_accuracy: 0.5080\n",
      "Epoch 6/10\n",
      "1563/1563 [==============================] - 3s 2ms/step - loss: 0.6103 - accuracy: 0.6796 - val_loss: 0.7486 - val_accuracy: 0.5082\n",
      "Epoch 7/10\n",
      "1563/1563 [==============================] - 3s 2ms/step - loss: 0.6033 - accuracy: 0.6846 - val_loss: 0.7514 - val_accuracy: 0.5036\n",
      "Epoch 8/10\n",
      "1563/1563 [==============================] - 3s 2ms/step - loss: 0.5970 - accuracy: 0.6885 - val_loss: 0.7554 - val_accuracy: 0.5048\n",
      "Epoch 9/10\n",
      "1563/1563 [==============================] - 3s 2ms/step - loss: 0.5918 - accuracy: 0.6921 - val_loss: 0.7606 - val_accuracy: 0.5052\n",
      "Epoch 10/10\n",
      "1563/1563 [==============================] - 3s 2ms/step - loss: 0.5872 - accuracy: 0.6938 - val_loss: 0.7673 - val_accuracy: 0.5059\n",
      "782/782 [==============================] - 1s 822us/step - loss: 0.7673 - accuracy: 0.5059\n",
      "[0.7672504782676697, 0.5058799982070923]\n"
     ]
    }
   ],
   "source": [
    "history = rnn.fit(X_train_10, Y_train, batch_size=16, epochs=10, validation_data=(X_test_10, Y_test))\n",
    "test = rnn.evaluate(X_test_10,Y_test)\n",
    "print(test)\n",
    "#looks like the improvements occured with a higher level of max length."
   ]
  },
  {
   "cell_type": "code",
   "execution_count": 23,
   "metadata": {},
   "outputs": [
    {
     "name": "stdout",
     "output_type": "stream",
     "text": [
      "Model: \"sequential_3\"\n",
      "_________________________________________________________________\n",
      " Layer (type)                Output Shape              Param #   \n",
      "=================================================================\n",
      " embedding_3 (Embedding)     (None, 30, 100)           200200    \n",
      "                                                                 \n",
      " simple_rnn_3 (SimpleRNN)    (None, 25)                3150      \n",
      "                                                                 \n",
      " dense_3 (Dense)             (None, 1)                 26        \n",
      "                                                                 \n",
      " activation_3 (Activation)   (None, 1)                 0         \n",
      "                                                                 \n",
      "=================================================================\n",
      "Total params: 203,376\n",
      "Trainable params: 203,376\n",
      "Non-trainable params: 0\n",
      "_________________________________________________________________\n",
      "None\n",
      "Epoch 1/10\n",
      "1250/1250 [==============================] - 4s 3ms/step - loss: 0.6927 - accuracy: 0.5153 - val_loss: 0.6920 - val_accuracy: 0.5270\n",
      "Epoch 2/10\n",
      "1250/1250 [==============================] - 3s 3ms/step - loss: 0.6864 - accuracy: 0.5724 - val_loss: 0.6673 - val_accuracy: 0.6382\n",
      "Epoch 3/10\n",
      "1250/1250 [==============================] - 3s 3ms/step - loss: 0.6176 - accuracy: 0.6704 - val_loss: 0.5947 - val_accuracy: 0.6736\n",
      "Epoch 4/10\n",
      "1250/1250 [==============================] - 3s 3ms/step - loss: 0.5465 - accuracy: 0.7224 - val_loss: 0.5600 - val_accuracy: 0.7086\n",
      "Epoch 5/10\n",
      "1250/1250 [==============================] - 3s 3ms/step - loss: 0.5181 - accuracy: 0.7426 - val_loss: 0.5543 - val_accuracy: 0.7134\n",
      "Epoch 6/10\n",
      "1250/1250 [==============================] - 3s 3ms/step - loss: 0.5011 - accuracy: 0.7506 - val_loss: 0.5550 - val_accuracy: 0.7098\n",
      "Epoch 7/10\n",
      "1250/1250 [==============================] - 3s 3ms/step - loss: 0.4898 - accuracy: 0.7588 - val_loss: 0.5390 - val_accuracy: 0.7228\n",
      "Epoch 8/10\n",
      "1250/1250 [==============================] - 3s 3ms/step - loss: 0.4807 - accuracy: 0.7641 - val_loss: 0.5379 - val_accuracy: 0.7232\n",
      "Epoch 9/10\n",
      "1250/1250 [==============================] - 3s 3ms/step - loss: 0.4730 - accuracy: 0.7685 - val_loss: 0.5385 - val_accuracy: 0.7222\n",
      "Epoch 10/10\n",
      "1250/1250 [==============================] - 3s 3ms/step - loss: 0.4657 - accuracy: 0.7725 - val_loss: 0.5667 - val_accuracy: 0.7192\n",
      "782/782 [==============================] - 1s 1ms/step - loss: 0.9500 - accuracy: 0.4976\n",
      "[0.9499783515930176, 0.4975999891757965]\n"
     ]
    }
   ],
   "source": [
    "#13) larger dim \n",
    "rnn = Sequential()\n",
    "rnn.add(Embedding(2002, 100, input_length = 30))\n",
    "rnn.add(SimpleRNN(25, input_shape = (2002, 30), return_sequences = False, activation = \"relu\"))\n",
    "rnn.add(Dense(1))\n",
    "rnn.add(Activation(\"sigmoid\"))\n",
    "opt = tf.keras.optimizers.RMSprop(learning_rate=0.0001)\n",
    "rnn.compile(loss = \"binary_crossentropy\", optimizer = opt, metrics = [\"accuracy\"])\n",
    "\n",
    "print(rnn.summary())\n",
    "history = rnn.fit(X_train_30, Y_train, batch_size=16, epochs=10, validation_split=0.2)\n",
    "test = rnn.evaluate(X_test_30,Y_test)\n",
    "print(test)"
   ]
  },
  {
   "cell_type": "code",
   "execution_count": 24,
   "metadata": {},
   "outputs": [
    {
     "name": "stdout",
     "output_type": "stream",
     "text": [
      "Model: \"sequential_4\"\n",
      "_________________________________________________________________\n",
      " Layer (type)                Output Shape              Param #   \n",
      "=================================================================\n",
      " embedding_4 (Embedding)     (None, 30, 10)            20020     \n",
      "                                                                 \n",
      " simple_rnn_4 (SimpleRNN)    (None, 3)                 42        \n",
      "                                                                 \n",
      " dense_4 (Dense)             (None, 1)                 4         \n",
      "                                                                 \n",
      " activation_4 (Activation)   (None, 1)                 0         \n",
      "                                                                 \n",
      "=================================================================\n",
      "Total params: 20,066\n",
      "Trainable params: 20,066\n",
      "Non-trainable params: 0\n",
      "_________________________________________________________________\n",
      "None\n",
      "Epoch 1/10\n",
      "1250/1250 [==============================] - 4s 3ms/step - loss: 0.6932 - accuracy: 0.4994 - val_loss: 0.6932 - val_accuracy: 0.5014\n",
      "Epoch 2/10\n",
      "1250/1250 [==============================] - 3s 3ms/step - loss: 0.6927 - accuracy: 0.5186 - val_loss: 0.6932 - val_accuracy: 0.5056\n",
      "Epoch 3/10\n",
      "1250/1250 [==============================] - 3s 3ms/step - loss: 0.6921 - accuracy: 0.5286 - val_loss: 0.6931 - val_accuracy: 0.5146\n",
      "Epoch 4/10\n",
      "1250/1250 [==============================] - 3s 3ms/step - loss: 0.6916 - accuracy: 0.5383 - val_loss: 0.6930 - val_accuracy: 0.5094\n",
      "Epoch 5/10\n",
      "1250/1250 [==============================] - 3s 3ms/step - loss: 0.6909 - accuracy: 0.5474 - val_loss: 0.6931 - val_accuracy: 0.5076\n",
      "Epoch 6/10\n",
      "1250/1250 [==============================] - 3s 3ms/step - loss: 0.6902 - accuracy: 0.5540 - val_loss: 0.6931 - val_accuracy: 0.5126\n",
      "Epoch 7/10\n",
      "1250/1250 [==============================] - 3s 3ms/step - loss: 0.6895 - accuracy: 0.5594 - val_loss: 0.6931 - val_accuracy: 0.5118\n",
      "Epoch 8/10\n",
      "1250/1250 [==============================] - 3s 3ms/step - loss: 0.6887 - accuracy: 0.5676 - val_loss: 0.6931 - val_accuracy: 0.5110\n",
      "Epoch 9/10\n",
      "1250/1250 [==============================] - 3s 3ms/step - loss: 0.6878 - accuracy: 0.5713 - val_loss: 0.6932 - val_accuracy: 0.5088\n",
      "Epoch 10/10\n",
      "1250/1250 [==============================] - 3s 3ms/step - loss: 0.6868 - accuracy: 0.5722 - val_loss: 0.6932 - val_accuracy: 0.5114\n",
      "782/782 [==============================] - 1s 1ms/step - loss: 0.6930 - accuracy: 0.5132\n",
      "[0.6930229067802429, 0.513159990310669]\n"
     ]
    }
   ],
   "source": [
    "# smaller dim\n",
    "rnn = Sequential()\n",
    "rnn.add(Embedding(2002, 10, input_length = 30))\n",
    "rnn.add(SimpleRNN(3, input_shape = (2002, 30), return_sequences = False, activation = \"relu\"))\n",
    "rnn.add(Dense(1))\n",
    "rnn.add(Activation(\"sigmoid\"))\n",
    "opt = tf.keras.optimizers.RMSprop(learning_rate=0.0001)\n",
    "rnn.compile(loss = \"binary_crossentropy\", optimizer = opt, metrics = [\"accuracy\"])\n",
    "\n",
    "print(rnn.summary())\n",
    "history = rnn.fit(X_train_30, Y_train, batch_size=16, epochs=10, validation_split=0.2)\n",
    "test = rnn.evaluate(X_test_30,Y_test)\n",
    "print(test)"
   ]
  },
  {
   "cell_type": "markdown",
   "metadata": {},
   "source": [
    "The larger hidden layers took longer run time, however the small dimension was actually more accurate suprisingly. "
   ]
  },
  {
   "cell_type": "markdown",
   "metadata": {},
   "source": [
    "## Train LSTM and GRU networks"
   ]
  },
  {
   "cell_type": "markdown",
   "metadata": {},
   "source": [
    "\n",
    "14- Build LSTM and GRU networks and compare their performance (accuracy and execution time) with the SimpleRNN. What is your conclusion?"
   ]
  },
  {
   "cell_type": "code",
   "execution_count": 28,
   "metadata": {},
   "outputs": [
    {
     "name": "stdout",
     "output_type": "stream",
     "text": [
      "Model: \"sequential_5\"\n",
      "_________________________________________________________________\n",
      " Layer (type)                Output Shape              Param #   \n",
      "=================================================================\n",
      " embedding_5 (Embedding)     (None, 30, 50)            100150    \n",
      "                                                                 \n",
      " dropout (Dropout)           (None, 30, 50)            0         \n",
      "                                                                 \n",
      " conv1d (Conv1D)             (None, 26, 64)            16064     \n",
      "                                                                 \n",
      " max_pooling1d (MaxPooling1D  (None, 6, 64)            0         \n",
      " )                                                               \n",
      "                                                                 \n",
      " lstm (LSTM)                 (None, 64)                33024     \n",
      "                                                                 \n",
      " dense_5 (Dense)             (None, 1)                 65        \n",
      "                                                                 \n",
      "=================================================================\n",
      "Total params: 149,303\n",
      "Trainable params: 49,153\n",
      "Non-trainable params: 100,150\n",
      "_________________________________________________________________\n",
      "None\n",
      "Epoch 1/10\n",
      "1250/1250 [==============================] - 6s 3ms/step - loss: 0.6927 - accuracy: 0.5113 - val_loss: 0.6928 - val_accuracy: 0.4938\n",
      "Epoch 2/10\n",
      "1250/1250 [==============================] - 3s 3ms/step - loss: 0.6915 - accuracy: 0.5310 - val_loss: 0.6898 - val_accuracy: 0.5630\n",
      "Epoch 3/10\n",
      "1250/1250 [==============================] - 3s 3ms/step - loss: 0.6874 - accuracy: 0.5584 - val_loss: 0.6852 - val_accuracy: 0.5548\n",
      "Epoch 4/10\n",
      "1250/1250 [==============================] - 3s 3ms/step - loss: 0.6788 - accuracy: 0.5735 - val_loss: 0.6750 - val_accuracy: 0.5780\n",
      "Epoch 5/10\n",
      "1250/1250 [==============================] - 4s 3ms/step - loss: 0.6689 - accuracy: 0.5903 - val_loss: 0.6666 - val_accuracy: 0.5936\n",
      "Epoch 6/10\n",
      "1250/1250 [==============================] - 3s 3ms/step - loss: 0.6596 - accuracy: 0.6051 - val_loss: 0.6625 - val_accuracy: 0.6018\n",
      "Epoch 7/10\n",
      "1250/1250 [==============================] - 3s 3ms/step - loss: 0.6537 - accuracy: 0.6098 - val_loss: 0.6577 - val_accuracy: 0.6082\n",
      "Epoch 8/10\n",
      "1250/1250 [==============================] - 3s 3ms/step - loss: 0.6475 - accuracy: 0.6187 - val_loss: 0.6596 - val_accuracy: 0.6064\n",
      "Epoch 9/10\n",
      "1250/1250 [==============================] - 3s 3ms/step - loss: 0.6394 - accuracy: 0.6267 - val_loss: 0.6521 - val_accuracy: 0.6152\n",
      "Epoch 10/10\n",
      "1250/1250 [==============================] - 4s 3ms/step - loss: 0.6327 - accuracy: 0.6337 - val_loss: 0.6480 - val_accuracy: 0.6182\n",
      "782/782 [==============================] - 1s 1ms/step - loss: 0.7120 - accuracy: 0.5320\n",
      "[0.7119917273521423, 0.5320000052452087]\n"
     ]
    }
   ],
   "source": [
    "LSTM = tf.keras.Sequential([\n",
    "    tf.keras.layers.Embedding(2003, 50, input_length=30, trainable=False),\n",
    "    tf.keras.layers.Dropout(0.2),\n",
    "    tf.keras.layers.Conv1D(64, 5, activation='relu'),\n",
    "    tf.keras.layers.MaxPooling1D(pool_size=4),\n",
    "    tf.keras.layers.LSTM(64),\n",
    "    tf.keras.layers.Dense(1, activation='sigmoid')\n",
    "])\n",
    "\n",
    "print(LSTM.summary())\n",
    "opt = tf.keras.optimizers.RMSprop(learning_rate=0.0001)\n",
    "LSTM.compile(loss='binary_crossentropy',optimizer=opt, metrics=['accuracy'])\n",
    "\n",
    "history = LSTM.fit(X_train_30, Y_train, batch_size=16, epochs=10, validation_split=0.2)\n",
    "test = LSTM.evaluate(X_test_30,Y_test)\n",
    "print(test)"
   ]
  },
  {
   "cell_type": "markdown",
   "metadata": {},
   "source": [
    "LSTM has the highest accuracy score and had similar run times to the rnn model"
   ]
  },
  {
   "cell_type": "code",
   "execution_count": 29,
   "metadata": {},
   "outputs": [
    {
     "name": "stdout",
     "output_type": "stream",
     "text": [
      "Model: \"sequential_6\"\n",
      "_________________________________________________________________\n",
      " Layer (type)                Output Shape              Param #   \n",
      "=================================================================\n",
      " embedding_6 (Embedding)     (None, 30, 50)            100100    \n",
      "                                                                 \n",
      " bidirectional (Bidirectiona  (None, 128)              44544     \n",
      " l)                                                              \n",
      "                                                                 \n",
      " dense_6 (Dense)             (None, 24)                3096      \n",
      "                                                                 \n",
      " dense_7 (Dense)             (None, 1)                 25        \n",
      "                                                                 \n",
      "=================================================================\n",
      "Total params: 147,765\n",
      "Trainable params: 147,765\n",
      "Non-trainable params: 0\n",
      "_________________________________________________________________\n",
      "None\n",
      "Epoch 1/10\n",
      "1250/1250 [==============================] - 9s 6ms/step - loss: 0.6926 - accuracy: 0.5150 - val_loss: 0.6915 - val_accuracy: 0.5502\n",
      "Epoch 2/10\n",
      "1250/1250 [==============================] - 6s 5ms/step - loss: 0.6854 - accuracy: 0.5691 - val_loss: 0.6683 - val_accuracy: 0.6096\n",
      "Epoch 3/10\n",
      "1250/1250 [==============================] - 6s 5ms/step - loss: 0.6099 - accuracy: 0.6641 - val_loss: 0.5781 - val_accuracy: 0.6924\n",
      "Epoch 4/10\n",
      "1250/1250 [==============================] - 6s 5ms/step - loss: 0.5427 - accuracy: 0.7224 - val_loss: 0.5516 - val_accuracy: 0.7128\n",
      "Epoch 5/10\n",
      "1250/1250 [==============================] - 6s 5ms/step - loss: 0.5186 - accuracy: 0.7387 - val_loss: 0.5420 - val_accuracy: 0.7236\n",
      "Epoch 6/10\n",
      "1250/1250 [==============================] - 6s 5ms/step - loss: 0.5064 - accuracy: 0.7451 - val_loss: 0.5407 - val_accuracy: 0.7244\n",
      "Epoch 7/10\n",
      "1250/1250 [==============================] - 6s 5ms/step - loss: 0.4990 - accuracy: 0.7510 - val_loss: 0.5495 - val_accuracy: 0.7124\n",
      "Epoch 8/10\n",
      "1250/1250 [==============================] - 6s 5ms/step - loss: 0.4933 - accuracy: 0.7546 - val_loss: 0.5431 - val_accuracy: 0.7246\n",
      "Epoch 9/10\n",
      "1250/1250 [==============================] - 6s 5ms/step - loss: 0.4888 - accuracy: 0.7581 - val_loss: 0.5440 - val_accuracy: 0.7256\n",
      "Epoch 10/10\n",
      "1250/1250 [==============================] - 6s 5ms/step - loss: 0.4852 - accuracy: 0.7624 - val_loss: 0.5482 - val_accuracy: 0.7194\n",
      "782/782 [==============================] - 2s 3ms/step - loss: 0.8679 - accuracy: 0.4993\n",
      "[0.8678516149520874, 0.49932000041007996]\n"
     ]
    }
   ],
   "source": [
    "GRU = tf.keras.Sequential([\n",
    "    tf.keras.layers.Embedding(2002, 50, input_length=30),\n",
    "    tf.keras.layers.Bidirectional(tf.keras.layers.GRU(64)),\n",
    "    tf.keras.layers.Dense(24, activation='relu'),\n",
    "    tf.keras.layers.Dense(1, activation='sigmoid')])\n",
    "print(GRU.summary())\n",
    "opt = tf.keras.optimizers.RMSprop(learning_rate=0.0001)\n",
    "GRU.compile(loss='binary_crossentropy',optimizer=opt, metrics=['accuracy'])\n",
    "\n",
    "history = GRU.fit(X_train_30, Y_train, batch_size=16, epochs=10, validation_split=0.2)\n",
    "test = GRU.evaluate(X_test_30,Y_test)\n",
    "print(test)\n",
    "    \n"
   ]
  },
  {
   "cell_type": "markdown",
   "metadata": {},
   "source": [
    "The GRU model was a slower run time, however had a lower accuracy rate\n"
   ]
  },
  {
   "cell_type": "markdown",
   "metadata": {},
   "source": [
    "Source for LSTM and GRU model https://www.kaggle.com/code/imdevskp/imdb-review-classification-lstm-gru-cnn-glove"
   ]
  },
  {
   "cell_type": "code",
   "execution_count": null,
   "metadata": {},
   "outputs": [],
   "source": []
  }
 ],
 "metadata": {
  "kernelspec": {
   "display_name": "Python 3 (ipykernel)",
   "language": "python",
   "name": "python3"
  },
  "language_info": {
   "codemirror_mode": {
    "name": "ipython",
    "version": 3
   },
   "file_extension": ".py",
   "mimetype": "text/x-python",
   "name": "python",
   "nbconvert_exporter": "python",
   "pygments_lexer": "ipython3",
   "version": "3.9.12"
  },
  "latex_envs": {
   "LaTeX_envs_menu_present": true,
   "autoclose": false,
   "autocomplete": true,
   "bibliofile": "biblio.bib",
   "cite_by": "apalike",
   "current_citInitial": 1,
   "eqLabelWithNumbers": true,
   "eqNumInitial": 1,
   "hotkeys": {
    "equation": "Ctrl-E",
    "itemize": "Ctrl-I"
   },
   "labels_anchors": false,
   "latex_user_defs": false,
   "report_style_numbering": false,
   "user_envs_cfg": false
  },
  "toc": {
   "base_numbering": 1,
   "nav_menu": {},
   "number_sections": true,
   "sideBar": true,
   "skip_h1_title": false,
   "title_cell": "Table of Contents",
   "title_sidebar": "Contents",
   "toc_cell": false,
   "toc_position": {},
   "toc_section_display": true,
   "toc_window_display": false
  },
  "varInspector": {
   "cols": {
    "lenName": 16,
    "lenType": 16,
    "lenVar": 40
   },
   "kernels_config": {
    "python": {
     "delete_cmd_postfix": "",
     "delete_cmd_prefix": "del ",
     "library": "var_list.py",
     "varRefreshCmd": "print(var_dic_list())"
    },
    "r": {
     "delete_cmd_postfix": ") ",
     "delete_cmd_prefix": "rm(",
     "library": "var_list.r",
     "varRefreshCmd": "cat(var_dic_list()) "
    }
   },
   "types_to_exclude": [
    "module",
    "function",
    "builtin_function_or_method",
    "instance",
    "_Feature"
   ],
   "window_display": true
  }
 },
 "nbformat": 4,
 "nbformat_minor": 1
}
